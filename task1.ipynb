{
 "cells": [
  {
   "cell_type": "markdown",
   "id": "d35ede44",
   "metadata": {},
   "source": [
    "# TASK 1"
   ]
  },
  {
   "cell_type": "markdown",
   "id": "a2e5fda7",
   "metadata": {},
   "source": [
    "# Importing and checking dataset\n"
   ]
  },
  {
   "cell_type": "code",
   "execution_count": 2,
   "id": "2ea70424",
   "metadata": {},
   "outputs": [],
   "source": [
    "import pandas as pd\n",
    "import matplotlib.pyplot as plt\n",
    "import os"
   ]
  },
  {
   "cell_type": "code",
   "execution_count": 11,
   "id": "07291f6d",
   "metadata": {},
   "outputs": [
    {
     "data": {
      "text/html": [
       "<div>\n",
       "<style scoped>\n",
       "    .dataframe tbody tr th:only-of-type {\n",
       "        vertical-align: middle;\n",
       "    }\n",
       "\n",
       "    .dataframe tbody tr th {\n",
       "        vertical-align: top;\n",
       "    }\n",
       "\n",
       "    .dataframe thead th {\n",
       "        text-align: right;\n",
       "    }\n",
       "</style>\n",
       "<table border=\"1\" class=\"dataframe\">\n",
       "  <thead>\n",
       "    <tr style=\"text-align: right;\">\n",
       "      <th></th>\n",
       "      <th>Passenger_No</th>\n",
       "      <th>first_name</th>\n",
       "      <th>last_name</th>\n",
       "      <th>survived</th>\n",
       "      <th>pclass</th>\n",
       "      <th>sex</th>\n",
       "      <th>age</th>\n",
       "      <th>parch</th>\n",
       "      <th>fare</th>\n",
       "      <th>embarked</th>\n",
       "      <th>class</th>\n",
       "      <th>who</th>\n",
       "      <th>adult_male</th>\n",
       "      <th>deck</th>\n",
       "      <th>embark_town</th>\n",
       "      <th>alive</th>\n",
       "      <th>alone</th>\n",
       "      <th>DECK_NUMBER</th>\n",
       "    </tr>\n",
       "  </thead>\n",
       "  <tbody>\n",
       "    <tr>\n",
       "      <th>0</th>\n",
       "      <td>1</td>\n",
       "      <td>Steven</td>\n",
       "      <td>King</td>\n",
       "      <td>0</td>\n",
       "      <td>3</td>\n",
       "      <td>male</td>\n",
       "      <td>22</td>\n",
       "      <td>0</td>\n",
       "      <td>24000</td>\n",
       "      <td>S</td>\n",
       "      <td>Third</td>\n",
       "      <td>man</td>\n",
       "      <td>True</td>\n",
       "      <td>A</td>\n",
       "      <td>Southampton</td>\n",
       "      <td>no</td>\n",
       "      <td>False</td>\n",
       "      <td>90</td>\n",
       "    </tr>\n",
       "    <tr>\n",
       "      <th>1</th>\n",
       "      <td>2</td>\n",
       "      <td>Ross</td>\n",
       "      <td>Kochhar</td>\n",
       "      <td>1</td>\n",
       "      <td>1</td>\n",
       "      <td>female</td>\n",
       "      <td>38</td>\n",
       "      <td>0</td>\n",
       "      <td>50806</td>\n",
       "      <td>C</td>\n",
       "      <td>First</td>\n",
       "      <td>woman</td>\n",
       "      <td>False</td>\n",
       "      <td>C</td>\n",
       "      <td>Cherbourg</td>\n",
       "      <td>yes</td>\n",
       "      <td>False</td>\n",
       "      <td>90</td>\n",
       "    </tr>\n",
       "    <tr>\n",
       "      <th>2</th>\n",
       "      <td>3</td>\n",
       "      <td>Alex</td>\n",
       "      <td>Urman</td>\n",
       "      <td>1</td>\n",
       "      <td>3</td>\n",
       "      <td>female</td>\n",
       "      <td>26</td>\n",
       "      <td>0</td>\n",
       "      <td>54071</td>\n",
       "      <td>S</td>\n",
       "      <td>Third</td>\n",
       "      <td>woman</td>\n",
       "      <td>False</td>\n",
       "      <td>B</td>\n",
       "      <td>Southampton</td>\n",
       "      <td>yes</td>\n",
       "      <td>True</td>\n",
       "      <td>90</td>\n",
       "    </tr>\n",
       "    <tr>\n",
       "      <th>3</th>\n",
       "      <td>4</td>\n",
       "      <td>Bruce</td>\n",
       "      <td>Popp</td>\n",
       "      <td>1</td>\n",
       "      <td>1</td>\n",
       "      <td>female</td>\n",
       "      <td>35</td>\n",
       "      <td>0</td>\n",
       "      <td>26969</td>\n",
       "      <td>S</td>\n",
       "      <td>First</td>\n",
       "      <td>woman</td>\n",
       "      <td>False</td>\n",
       "      <td>C</td>\n",
       "      <td>Southampton</td>\n",
       "      <td>yes</td>\n",
       "      <td>False</td>\n",
       "      <td>60</td>\n",
       "    </tr>\n",
       "    <tr>\n",
       "      <th>4</th>\n",
       "      <td>5</td>\n",
       "      <td>David</td>\n",
       "      <td>Raphaely</td>\n",
       "      <td>0</td>\n",
       "      <td>3</td>\n",
       "      <td>male</td>\n",
       "      <td>35</td>\n",
       "      <td>0</td>\n",
       "      <td>34048</td>\n",
       "      <td>S</td>\n",
       "      <td>Third</td>\n",
       "      <td>man</td>\n",
       "      <td>True</td>\n",
       "      <td>C</td>\n",
       "      <td>Southampton</td>\n",
       "      <td>no</td>\n",
       "      <td>True</td>\n",
       "      <td>60</td>\n",
       "    </tr>\n",
       "    <tr>\n",
       "      <th>5</th>\n",
       "      <td>6</td>\n",
       "      <td>Nancy</td>\n",
       "      <td>Khoo</td>\n",
       "      <td>0</td>\n",
       "      <td>3</td>\n",
       "      <td>male</td>\n",
       "      <td>27</td>\n",
       "      <td>0</td>\n",
       "      <td>46206</td>\n",
       "      <td>Q</td>\n",
       "      <td>Third</td>\n",
       "      <td>man</td>\n",
       "      <td>True</td>\n",
       "      <td>E</td>\n",
       "      <td>Queenstown</td>\n",
       "      <td>no</td>\n",
       "      <td>True</td>\n",
       "      <td>70</td>\n",
       "    </tr>\n",
       "    <tr>\n",
       "      <th>6</th>\n",
       "      <td>7</td>\n",
       "      <td>John</td>\n",
       "      <td>Baida</td>\n",
       "      <td>0</td>\n",
       "      <td>1</td>\n",
       "      <td>male</td>\n",
       "      <td>54</td>\n",
       "      <td>0</td>\n",
       "      <td>63090</td>\n",
       "      <td>S</td>\n",
       "      <td>First</td>\n",
       "      <td>man</td>\n",
       "      <td>True</td>\n",
       "      <td>E</td>\n",
       "      <td>Southampton</td>\n",
       "      <td>no</td>\n",
       "      <td>True</td>\n",
       "      <td>70</td>\n",
       "    </tr>\n",
       "    <tr>\n",
       "      <th>7</th>\n",
       "      <td>8</td>\n",
       "      <td>Daniel</td>\n",
       "      <td>Weiss</td>\n",
       "      <td>0</td>\n",
       "      <td>3</td>\n",
       "      <td>male</td>\n",
       "      <td>2</td>\n",
       "      <td>1</td>\n",
       "      <td>56356</td>\n",
       "      <td>S</td>\n",
       "      <td>Third</td>\n",
       "      <td>child</td>\n",
       "      <td>False</td>\n",
       "      <td>G</td>\n",
       "      <td>Southampton</td>\n",
       "      <td>no</td>\n",
       "      <td>False</td>\n",
       "      <td>70</td>\n",
       "    </tr>\n",
       "    <tr>\n",
       "      <th>8</th>\n",
       "      <td>9</td>\n",
       "      <td>Sigal</td>\n",
       "      <td>Kaufling</td>\n",
       "      <td>1</td>\n",
       "      <td>3</td>\n",
       "      <td>female</td>\n",
       "      <td>27</td>\n",
       "      <td>2</td>\n",
       "      <td>23488</td>\n",
       "      <td>S</td>\n",
       "      <td>Third</td>\n",
       "      <td>woman</td>\n",
       "      <td>False</td>\n",
       "      <td>A</td>\n",
       "      <td>Southampton</td>\n",
       "      <td>yes</td>\n",
       "      <td>False</td>\n",
       "      <td>60</td>\n",
       "    </tr>\n",
       "    <tr>\n",
       "      <th>9</th>\n",
       "      <td>10</td>\n",
       "      <td>Adam</td>\n",
       "      <td>Vollman</td>\n",
       "      <td>1</td>\n",
       "      <td>2</td>\n",
       "      <td>female</td>\n",
       "      <td>14</td>\n",
       "      <td>0</td>\n",
       "      <td>29047</td>\n",
       "      <td>C</td>\n",
       "      <td>Second</td>\n",
       "      <td>child</td>\n",
       "      <td>False</td>\n",
       "      <td>B</td>\n",
       "      <td>Cherbourg</td>\n",
       "      <td>yes</td>\n",
       "      <td>False</td>\n",
       "      <td>90</td>\n",
       "    </tr>\n",
       "    <tr>\n",
       "      <th>10</th>\n",
       "      <td>11</td>\n",
       "      <td>Mathew</td>\n",
       "      <td>Himuro</td>\n",
       "      <td>1</td>\n",
       "      <td>3</td>\n",
       "      <td>female</td>\n",
       "      <td>4</td>\n",
       "      <td>1</td>\n",
       "      <td>51428</td>\n",
       "      <td>S</td>\n",
       "      <td>Third</td>\n",
       "      <td>child</td>\n",
       "      <td>False</td>\n",
       "      <td>G</td>\n",
       "      <td>Southampton</td>\n",
       "      <td>yes</td>\n",
       "      <td>False</td>\n",
       "      <td>100</td>\n",
       "    </tr>\n",
       "    <tr>\n",
       "      <th>11</th>\n",
       "      <td>12</td>\n",
       "      <td>Harvey</td>\n",
       "      <td>Mikkilineni</td>\n",
       "      <td>1</td>\n",
       "      <td>1</td>\n",
       "      <td>female</td>\n",
       "      <td>58</td>\n",
       "      <td>0</td>\n",
       "      <td>61770</td>\n",
       "      <td>S</td>\n",
       "      <td>First</td>\n",
       "      <td>woman</td>\n",
       "      <td>False</td>\n",
       "      <td>C</td>\n",
       "      <td>Southampton</td>\n",
       "      <td>yes</td>\n",
       "      <td>True</td>\n",
       "      <td>100</td>\n",
       "    </tr>\n",
       "    <tr>\n",
       "      <th>12</th>\n",
       "      <td>13</td>\n",
       "      <td>Kevin</td>\n",
       "      <td>Rogers</td>\n",
       "      <td>0</td>\n",
       "      <td>3</td>\n",
       "      <td>male</td>\n",
       "      <td>20</td>\n",
       "      <td>0</td>\n",
       "      <td>30897</td>\n",
       "      <td>S</td>\n",
       "      <td>Third</td>\n",
       "      <td>man</td>\n",
       "      <td>True</td>\n",
       "      <td>C</td>\n",
       "      <td>Southampton</td>\n",
       "      <td>no</td>\n",
       "      <td>True</td>\n",
       "      <td>70</td>\n",
       "    </tr>\n",
       "    <tr>\n",
       "      <th>13</th>\n",
       "      <td>14</td>\n",
       "      <td>Julia</td>\n",
       "      <td>Patel</td>\n",
       "      <td>0</td>\n",
       "      <td>3</td>\n",
       "      <td>male</td>\n",
       "      <td>39</td>\n",
       "      <td>5</td>\n",
       "      <td>59197</td>\n",
       "      <td>S</td>\n",
       "      <td>Third</td>\n",
       "      <td>man</td>\n",
       "      <td>True</td>\n",
       "      <td>C</td>\n",
       "      <td>Southampton</td>\n",
       "      <td>no</td>\n",
       "      <td>False</td>\n",
       "      <td>80</td>\n",
       "    </tr>\n",
       "    <tr>\n",
       "      <th>14</th>\n",
       "      <td>15</td>\n",
       "      <td>Irene</td>\n",
       "      <td>Davies</td>\n",
       "      <td>0</td>\n",
       "      <td>3</td>\n",
       "      <td>female</td>\n",
       "      <td>14</td>\n",
       "      <td>0</td>\n",
       "      <td>61211</td>\n",
       "      <td>S</td>\n",
       "      <td>Third</td>\n",
       "      <td>child</td>\n",
       "      <td>False</td>\n",
       "      <td>G</td>\n",
       "      <td>Southampton</td>\n",
       "      <td>no</td>\n",
       "      <td>True</td>\n",
       "      <td>80</td>\n",
       "    </tr>\n",
       "    <tr>\n",
       "      <th>15</th>\n",
       "      <td>16</td>\n",
       "      <td>James</td>\n",
       "      <td>Zlotkey</td>\n",
       "      <td>1</td>\n",
       "      <td>2</td>\n",
       "      <td>female</td>\n",
       "      <td>55</td>\n",
       "      <td>0</td>\n",
       "      <td>43386</td>\n",
       "      <td>S</td>\n",
       "      <td>Second</td>\n",
       "      <td>woman</td>\n",
       "      <td>False</td>\n",
       "      <td>D</td>\n",
       "      <td>Southampton</td>\n",
       "      <td>yes</td>\n",
       "      <td>True</td>\n",
       "      <td>80</td>\n",
       "    </tr>\n",
       "    <tr>\n",
       "      <th>16</th>\n",
       "      <td>17</td>\n",
       "      <td>Jason</td>\n",
       "      <td>Bernstein</td>\n",
       "      <td>0</td>\n",
       "      <td>3</td>\n",
       "      <td>male</td>\n",
       "      <td>2</td>\n",
       "      <td>1</td>\n",
       "      <td>27978</td>\n",
       "      <td>Q</td>\n",
       "      <td>Third</td>\n",
       "      <td>child</td>\n",
       "      <td>False</td>\n",
       "      <td>G</td>\n",
       "      <td>Queenstown</td>\n",
       "      <td>no</td>\n",
       "      <td>False</td>\n",
       "      <td>100</td>\n",
       "    </tr>\n",
       "    <tr>\n",
       "      <th>17</th>\n",
       "      <td>18</td>\n",
       "      <td>Peter</td>\n",
       "      <td>Hall</td>\n",
       "      <td>1</td>\n",
       "      <td>2</td>\n",
       "      <td>male</td>\n",
       "      <td>34</td>\n",
       "      <td>0</td>\n",
       "      <td>46632</td>\n",
       "      <td>S</td>\n",
       "      <td>Second</td>\n",
       "      <td>man</td>\n",
       "      <td>True</td>\n",
       "      <td>B</td>\n",
       "      <td>Southampton</td>\n",
       "      <td>yes</td>\n",
       "      <td>True</td>\n",
       "      <td>80</td>\n",
       "    </tr>\n",
       "    <tr>\n",
       "      <th>18</th>\n",
       "      <td>19</td>\n",
       "      <td>Sartha</td>\n",
       "      <td>Sully</td>\n",
       "      <td>0</td>\n",
       "      <td>3</td>\n",
       "      <td>female</td>\n",
       "      <td>31</td>\n",
       "      <td>0</td>\n",
       "      <td>66662</td>\n",
       "      <td>S</td>\n",
       "      <td>Third</td>\n",
       "      <td>woman</td>\n",
       "      <td>False</td>\n",
       "      <td>D</td>\n",
       "      <td>Southampton</td>\n",
       "      <td>no</td>\n",
       "      <td>False</td>\n",
       "      <td>60</td>\n",
       "    </tr>\n",
       "    <tr>\n",
       "      <th>19</th>\n",
       "      <td>20</td>\n",
       "      <td>William</td>\n",
       "      <td>Smith</td>\n",
       "      <td>1</td>\n",
       "      <td>3</td>\n",
       "      <td>female</td>\n",
       "      <td>29</td>\n",
       "      <td>0</td>\n",
       "      <td>38628</td>\n",
       "      <td>C</td>\n",
       "      <td>Third</td>\n",
       "      <td>woman</td>\n",
       "      <td>False</td>\n",
       "      <td>D</td>\n",
       "      <td>Cherbourg</td>\n",
       "      <td>yes</td>\n",
       "      <td>True</td>\n",
       "      <td>70</td>\n",
       "    </tr>\n",
       "    <tr>\n",
       "      <th>20</th>\n",
       "      <td>21</td>\n",
       "      <td>Jack</td>\n",
       "      <td>Greene</td>\n",
       "      <td>0</td>\n",
       "      <td>2</td>\n",
       "      <td>male</td>\n",
       "      <td>35</td>\n",
       "      <td>0</td>\n",
       "      <td>20068</td>\n",
       "      <td>S</td>\n",
       "      <td>Second</td>\n",
       "      <td>man</td>\n",
       "      <td>True</td>\n",
       "      <td>G</td>\n",
       "      <td>Southampton</td>\n",
       "      <td>no</td>\n",
       "      <td>True</td>\n",
       "      <td>90</td>\n",
       "    </tr>\n",
       "  </tbody>\n",
       "</table>\n",
       "</div>"
      ],
      "text/plain": [
       "    Passenger_No first_name    last_name  survived  pclass     sex  age  \\\n",
       "0              1     Steven         King         0       3    male   22   \n",
       "1              2       Ross      Kochhar         1       1  female   38   \n",
       "2              3       Alex        Urman         1       3  female   26   \n",
       "3              4      Bruce         Popp         1       1  female   35   \n",
       "4              5      David     Raphaely         0       3    male   35   \n",
       "5              6      Nancy         Khoo         0       3    male   27   \n",
       "6              7       John        Baida         0       1    male   54   \n",
       "7              8     Daniel        Weiss         0       3    male    2   \n",
       "8              9      Sigal     Kaufling         1       3  female   27   \n",
       "9             10       Adam      Vollman         1       2  female   14   \n",
       "10            11     Mathew       Himuro         1       3  female    4   \n",
       "11            12     Harvey  Mikkilineni         1       1  female   58   \n",
       "12            13      Kevin       Rogers         0       3    male   20   \n",
       "13            14      Julia        Patel         0       3    male   39   \n",
       "14            15      Irene       Davies         0       3  female   14   \n",
       "15            16      James      Zlotkey         1       2  female   55   \n",
       "16            17      Jason    Bernstein         0       3    male    2   \n",
       "17            18      Peter         Hall         1       2    male   34   \n",
       "18            19     Sartha        Sully         0       3  female   31   \n",
       "19            20    William        Smith         1       3  female   29   \n",
       "20            21       Jack       Greene         0       2    male   35   \n",
       "\n",
       "    parch   fare embarked   class    who  adult_male deck  embark_town alive  \\\n",
       "0       0  24000        S   Third    man        True    A  Southampton    no   \n",
       "1       0  50806        C   First  woman       False    C    Cherbourg   yes   \n",
       "2       0  54071        S   Third  woman       False    B  Southampton   yes   \n",
       "3       0  26969        S   First  woman       False    C  Southampton   yes   \n",
       "4       0  34048        S   Third    man        True    C  Southampton    no   \n",
       "5       0  46206        Q   Third    man        True    E   Queenstown    no   \n",
       "6       0  63090        S   First    man        True    E  Southampton    no   \n",
       "7       1  56356        S   Third  child       False    G  Southampton    no   \n",
       "8       2  23488        S   Third  woman       False    A  Southampton   yes   \n",
       "9       0  29047        C  Second  child       False    B    Cherbourg   yes   \n",
       "10      1  51428        S   Third  child       False    G  Southampton   yes   \n",
       "11      0  61770        S   First  woman       False    C  Southampton   yes   \n",
       "12      0  30897        S   Third    man        True    C  Southampton    no   \n",
       "13      5  59197        S   Third    man        True    C  Southampton    no   \n",
       "14      0  61211        S   Third  child       False    G  Southampton    no   \n",
       "15      0  43386        S  Second  woman       False    D  Southampton   yes   \n",
       "16      1  27978        Q   Third  child       False    G   Queenstown    no   \n",
       "17      0  46632        S  Second    man        True    B  Southampton   yes   \n",
       "18      0  66662        S   Third  woman       False    D  Southampton    no   \n",
       "19      0  38628        C   Third  woman       False    D    Cherbourg   yes   \n",
       "20      0  20068        S  Second    man        True    G  Southampton    no   \n",
       "\n",
       "    alone  DECK_NUMBER  \n",
       "0   False           90  \n",
       "1   False           90  \n",
       "2    True           90  \n",
       "3   False           60  \n",
       "4    True           60  \n",
       "5    True           70  \n",
       "6    True           70  \n",
       "7   False           70  \n",
       "8   False           60  \n",
       "9   False           90  \n",
       "10  False          100  \n",
       "11   True          100  \n",
       "12   True           70  \n",
       "13  False           80  \n",
       "14   True           80  \n",
       "15   True           80  \n",
       "16  False          100  \n",
       "17   True           80  \n",
       "18  False           60  \n",
       "19   True           70  \n",
       "20   True           90  "
      ]
     },
     "execution_count": 11,
     "metadata": {},
     "output_type": "execute_result"
    }
   ],
   "source": [
    "data=pd.read_csv(\"C:\\\\Users\\\\LENOVO\\\\OneDrive\\\\Desktop\\\\MY personal\\\\New folder\\\\titanic csv.csv\")\n",
    "data"
   ]
  },
  {
   "cell_type": "code",
   "execution_count": 12,
   "id": "7bae9b9b",
   "metadata": {},
   "outputs": [
    {
     "name": "stdout",
     "output_type": "stream",
     "text": [
      "<class 'pandas.core.frame.DataFrame'>\n",
      "RangeIndex: 21 entries, 0 to 20\n",
      "Data columns (total 18 columns):\n",
      " #   Column        Non-Null Count  Dtype \n",
      "---  ------        --------------  ----- \n",
      " 0   Passenger_No  21 non-null     int64 \n",
      " 1   first_name    21 non-null     object\n",
      " 2   last_name     21 non-null     object\n",
      " 3   survived      21 non-null     int64 \n",
      " 4   pclass        21 non-null     int64 \n",
      " 5   sex           21 non-null     object\n",
      " 6   age           21 non-null     int64 \n",
      " 7   parch         21 non-null     int64 \n",
      " 8   fare          21 non-null     int64 \n",
      " 9   embarked      21 non-null     object\n",
      " 10  class         21 non-null     object\n",
      " 11  who           21 non-null     object\n",
      " 12  adult_male    21 non-null     bool  \n",
      " 13  deck          21 non-null     object\n",
      " 14  embark_town   21 non-null     object\n",
      " 15  alive         21 non-null     object\n",
      " 16  alone         21 non-null     bool  \n",
      " 17  DECK_NUMBER   21 non-null     int64 \n",
      "dtypes: bool(2), int64(7), object(9)\n",
      "memory usage: 2.8+ KB\n"
     ]
    }
   ],
   "source": [
    "data.info()"
   ]
  },
  {
   "cell_type": "code",
   "execution_count": 13,
   "id": "a9d2305b",
   "metadata": {},
   "outputs": [
    {
     "data": {
      "text/html": [
       "<div>\n",
       "<style scoped>\n",
       "    .dataframe tbody tr th:only-of-type {\n",
       "        vertical-align: middle;\n",
       "    }\n",
       "\n",
       "    .dataframe tbody tr th {\n",
       "        vertical-align: top;\n",
       "    }\n",
       "\n",
       "    .dataframe thead th {\n",
       "        text-align: right;\n",
       "    }\n",
       "</style>\n",
       "<table border=\"1\" class=\"dataframe\">\n",
       "  <thead>\n",
       "    <tr style=\"text-align: right;\">\n",
       "      <th></th>\n",
       "      <th>Passenger_No</th>\n",
       "      <th>survived</th>\n",
       "      <th>pclass</th>\n",
       "      <th>age</th>\n",
       "      <th>parch</th>\n",
       "      <th>fare</th>\n",
       "      <th>DECK_NUMBER</th>\n",
       "    </tr>\n",
       "  </thead>\n",
       "  <tbody>\n",
       "    <tr>\n",
       "      <th>count</th>\n",
       "      <td>21.000000</td>\n",
       "      <td>21.000000</td>\n",
       "      <td>21.000000</td>\n",
       "      <td>21.000000</td>\n",
       "      <td>21.000000</td>\n",
       "      <td>21.000000</td>\n",
       "      <td>21.000000</td>\n",
       "    </tr>\n",
       "    <tr>\n",
       "      <th>mean</th>\n",
       "      <td>11.000000</td>\n",
       "      <td>0.476190</td>\n",
       "      <td>2.428571</td>\n",
       "      <td>28.619048</td>\n",
       "      <td>0.476190</td>\n",
       "      <td>43616.095238</td>\n",
       "      <td>79.047619</td>\n",
       "    </tr>\n",
       "    <tr>\n",
       "      <th>std</th>\n",
       "      <td>6.204837</td>\n",
       "      <td>0.511766</td>\n",
       "      <td>0.810643</td>\n",
       "      <td>16.026466</td>\n",
       "      <td>1.167007</td>\n",
       "      <td>15081.489823</td>\n",
       "      <td>13.749459</td>\n",
       "    </tr>\n",
       "    <tr>\n",
       "      <th>min</th>\n",
       "      <td>1.000000</td>\n",
       "      <td>0.000000</td>\n",
       "      <td>1.000000</td>\n",
       "      <td>2.000000</td>\n",
       "      <td>0.000000</td>\n",
       "      <td>20068.000000</td>\n",
       "      <td>60.000000</td>\n",
       "    </tr>\n",
       "    <tr>\n",
       "      <th>25%</th>\n",
       "      <td>6.000000</td>\n",
       "      <td>0.000000</td>\n",
       "      <td>2.000000</td>\n",
       "      <td>20.000000</td>\n",
       "      <td>0.000000</td>\n",
       "      <td>29047.000000</td>\n",
       "      <td>70.000000</td>\n",
       "    </tr>\n",
       "    <tr>\n",
       "      <th>50%</th>\n",
       "      <td>11.000000</td>\n",
       "      <td>0.000000</td>\n",
       "      <td>3.000000</td>\n",
       "      <td>29.000000</td>\n",
       "      <td>0.000000</td>\n",
       "      <td>46206.000000</td>\n",
       "      <td>80.000000</td>\n",
       "    </tr>\n",
       "    <tr>\n",
       "      <th>75%</th>\n",
       "      <td>16.000000</td>\n",
       "      <td>1.000000</td>\n",
       "      <td>3.000000</td>\n",
       "      <td>35.000000</td>\n",
       "      <td>0.000000</td>\n",
       "      <td>56356.000000</td>\n",
       "      <td>90.000000</td>\n",
       "    </tr>\n",
       "    <tr>\n",
       "      <th>max</th>\n",
       "      <td>21.000000</td>\n",
       "      <td>1.000000</td>\n",
       "      <td>3.000000</td>\n",
       "      <td>58.000000</td>\n",
       "      <td>5.000000</td>\n",
       "      <td>66662.000000</td>\n",
       "      <td>100.000000</td>\n",
       "    </tr>\n",
       "  </tbody>\n",
       "</table>\n",
       "</div>"
      ],
      "text/plain": [
       "       Passenger_No   survived     pclass        age      parch          fare  \\\n",
       "count     21.000000  21.000000  21.000000  21.000000  21.000000     21.000000   \n",
       "mean      11.000000   0.476190   2.428571  28.619048   0.476190  43616.095238   \n",
       "std        6.204837   0.511766   0.810643  16.026466   1.167007  15081.489823   \n",
       "min        1.000000   0.000000   1.000000   2.000000   0.000000  20068.000000   \n",
       "25%        6.000000   0.000000   2.000000  20.000000   0.000000  29047.000000   \n",
       "50%       11.000000   0.000000   3.000000  29.000000   0.000000  46206.000000   \n",
       "75%       16.000000   1.000000   3.000000  35.000000   0.000000  56356.000000   \n",
       "max       21.000000   1.000000   3.000000  58.000000   5.000000  66662.000000   \n",
       "\n",
       "       DECK_NUMBER  \n",
       "count    21.000000  \n",
       "mean     79.047619  \n",
       "std      13.749459  \n",
       "min      60.000000  \n",
       "25%      70.000000  \n",
       "50%      80.000000  \n",
       "75%      90.000000  \n",
       "max     100.000000  "
      ]
     },
     "execution_count": 13,
     "metadata": {},
     "output_type": "execute_result"
    }
   ],
   "source": [
    "data.describe()"
   ]
  },
  {
   "cell_type": "code",
   "execution_count": 15,
   "id": "941778df",
   "metadata": {},
   "outputs": [
    {
     "data": {
      "text/plain": [
       "Passenger_No    0\n",
       "first_name      0\n",
       "last_name       0\n",
       "survived        0\n",
       "pclass          0\n",
       "sex             0\n",
       "age             0\n",
       "parch           0\n",
       "fare            0\n",
       "embarked        0\n",
       "class           0\n",
       "who             0\n",
       "adult_male      0\n",
       "deck            0\n",
       "embark_town     0\n",
       "alive           0\n",
       "alone           0\n",
       "DECK_NUMBER     0\n",
       "dtype: int64"
      ]
     },
     "execution_count": 15,
     "metadata": {},
     "output_type": "execute_result"
    }
   ],
   "source": [
    "data.isna().sum()"
   ]
  },
  {
   "cell_type": "code",
   "execution_count": 18,
   "id": "47c9a5c7",
   "metadata": {},
   "outputs": [
    {
     "data": {
      "text/plain": [
       "0"
      ]
     },
     "execution_count": 18,
     "metadata": {},
     "output_type": "execute_result"
    }
   ],
   "source": [
    "data.duplicated().sum()"
   ]
  },
  {
   "cell_type": "markdown",
   "id": "dea9ef03",
   "metadata": {},
   "source": [
    "# Age Distribution: A Histogram of Passenger Ages"
   ]
  },
  {
   "cell_type": "code",
   "execution_count": 50,
   "id": "7c59cfd5",
   "metadata": {},
   "outputs": [
    {
     "name": "stdout",
     "output_type": "stream",
     "text": [
      "count    21.000000\n",
      "mean     28.619048\n",
      "std      16.026466\n",
      "min       2.000000\n",
      "25%      20.000000\n",
      "50%      29.000000\n",
      "75%      35.000000\n",
      "max      58.000000\n",
      "Name: age, dtype: float64\n"
     ]
    },
    {
     "data": {
      "image/png": "[encoded data removed]",
      "text/plain": [
       "<Figure size 640x480 with 1 Axes>"
      ]
     },
     "metadata": {},
     "output_type": "display_data"
    }
   ],
   "source": [
    "x=data['age']\n",
    "plt.xlabel(\"age\")\n",
    "plt.ylabel(\"frequency\")\n",
    "plt.hist(x, bins=20, edgecolor='black')\n",
    "age_summary=x.describe()\n",
    "print(age_summary)"
   ]
  },
  {
   "cell_type": "markdown",
   "id": "40187855",
   "metadata": {},
   "source": [
    "# Fare Distribution: A Histogram of fare paid by passengers"
   ]
  },
  {
   "cell_type": "code",
   "execution_count": 59,
   "id": "9ae030b7",
   "metadata": {},
   "outputs": [
    {
     "name": "stdout",
     "output_type": "stream",
     "text": [
      "count       21.000000\n",
      "mean     43616.095238\n",
      "std      15081.489823\n",
      "min      20068.000000\n",
      "25%      29047.000000\n",
      "50%      46206.000000\n",
      "75%      56356.000000\n",
      "max      66662.000000\n",
      "Name: fare, dtype: float64\n"
     ]
    },
    {
     "data": {
      "image/png": "[encoded data removed]",
      "text/plain": [
       "<Figure size 640x480 with 1 Axes>"
      ]
     },
     "metadata": {},
     "output_type": "display_data"
    }
   ],
   "source": [
    "x=data['fare']\n",
    "plt.xlabel(\"fare\")\n",
    "plt.ylabel(\"frequency\")\n",
    "plt.hist(x, edgecolor='black')\n",
    "age_summary=x.describe()\n",
    "print(age_summary)"
   ]
  },
  {
   "cell_type": "markdown",
   "id": "dc261939",
   "metadata": {},
   "source": [
    "# Histogram showing the distribution of embark town"
   ]
  },
  {
   "cell_type": "code",
   "execution_count": 49,
   "id": "f8f78f01",
   "metadata": {},
   "outputs": [
    {
     "name": "stdout",
     "output_type": "stream",
     "text": [
      "count              21\n",
      "unique              3\n",
      "top       Southampton\n",
      "freq               16\n",
      "Name: embark_town, dtype: object\n"
     ]
    },
    {
     "data": {
      "image/png": "[encoded data removed]",
      "text/plain": [
       "<Figure size 640x480 with 1 Axes>"
      ]
     },
     "metadata": {},
     "output_type": "display_data"
    }
   ],
   "source": [
    "x=data['embark_town']\n",
    "plt.xlabel(\"age\")\n",
    "plt.ylabel(\"frequency\")\n",
    "plt.hist(x, edgecolor='black')\n",
    "age_summary=x.describe()\n",
    "print(age_summary)"
   ]
  },
  {
   "cell_type": "markdown",
   "id": "37877471",
   "metadata": {},
   "source": [
    "# Bar Chart of Passenger Survival Status: Alive vs Not Alive"
   ]
  },
  {
   "cell_type": "code",
   "execution_count": 30,
   "id": "9d92adcb",
   "metadata": {},
   "outputs": [
    {
     "name": "stdout",
     "output_type": "stream",
     "text": [
      "Index(['no', 'yes'], dtype='object') no     11\n",
      "yes    10\n",
      "Name: alive, dtype: int64\n"
     ]
    },
    {
     "data": {
      "text/plain": [
       "Text(0.5, 1.0, 'Distribution of passengers are alive or not')"
      ]
     },
     "execution_count": 30,
     "metadata": {},
     "output_type": "execute_result"
    },
    {
     "data": {
      "image/png": "[encoded data removed]",
      "text/plain": [
       "<Figure size 500x400 with 1 Axes>"
      ]
     },
     "metadata": {},
     "output_type": "display_data"
    }
   ],
   "source": [
    "alive=data['alive']\n",
    "count=alive.value_counts()\n",
    "count=pd.DataFrame(count)\n",
    "print(count.index,count['alive'])\n",
    "plt.figure(figsize=(5,4))\n",
    "plt.bar(count.index, count['alive'])\n",
    "plt.xlabel('Alive or not')\n",
    "plt.ylabel('Count')\n",
    "plt.title('Distribution of passengers who are alive or not')"
   ]
  },
  {
   "cell_type": "markdown",
   "id": "3248e15b",
   "metadata": {},
   "source": [
    "# Histogram shows the distribution of alive passengers in each deck"
   ]
  },
  {
   "cell_type": "code",
   "execution_count": 63,
   "id": "ca01ee3b",
   "metadata": {},
   "outputs": [
    {
     "name": "stdout",
     "output_type": "stream",
     "text": [
      "    Passenger_No first_name    last_name  survived  pclass     sex  age  \\\n",
      "1              2       Ross      Kochhar         1       1  female   38   \n",
      "2              3       Alex        Urman         1       3  female   26   \n",
      "3              4      Bruce         Popp         1       1  female   35   \n",
      "8              9      Sigal     Kaufling         1       3  female   27   \n",
      "9             10       Adam      Vollman         1       2  female   14   \n",
      "10            11     Mathew       Himuro         1       3  female    4   \n",
      "11            12     Harvey  Mikkilineni         1       1  female   58   \n",
      "15            16      James      Zlotkey         1       2  female   55   \n",
      "17            18      Peter         Hall         1       2    male   34   \n",
      "19            20    William        Smith         1       3  female   29   \n",
      "\n",
      "    parch   fare embarked   class    who  adult_male deck  embark_town alive  \\\n",
      "1       0  50806        C   First  woman       False    C    Cherbourg   yes   \n",
      "2       0  54071        S   Third  woman       False    B  Southampton   yes   \n",
      "3       0  26969        S   First  woman       False    C  Southampton   yes   \n",
      "8       2  23488        S   Third  woman       False    A  Southampton   yes   \n",
      "9       0  29047        C  Second  child       False    B    Cherbourg   yes   \n",
      "10      1  51428        S   Third  child       False    G  Southampton   yes   \n",
      "11      0  61770        S   First  woman       False    C  Southampton   yes   \n",
      "15      0  43386        S  Second  woman       False    D  Southampton   yes   \n",
      "17      0  46632        S  Second    man        True    B  Southampton   yes   \n",
      "19      0  38628        C   Third  woman       False    D    Cherbourg   yes   \n",
      "\n",
      "    alone  DECK_NUMBER  \n",
      "1   False           90  \n",
      "2    True           90  \n",
      "3   False           60  \n",
      "8   False           60  \n",
      "9   False           90  \n",
      "10  False          100  \n",
      "11   True          100  \n",
      "15   True           80  \n",
      "17   True           80  \n",
      "19   True           70  \n",
      "Index(['C', 'B', 'D', 'A', 'G'], dtype='object') C    3\n",
      "B    3\n",
      "D    2\n",
      "A    1\n",
      "G    1\n",
      "Name: deck, dtype: int64\n"
     ]
    },
    {
     "data": {
      "text/plain": [
       "Text(0.5, 1.0, 'Distribution of alive passengers in each deck')"
      ]
     },
     "execution_count": 63,
     "metadata": {},
     "output_type": "execute_result"
    },
    {
     "data": {
      "image/png": "[encoded data removed]",
      "text/plain": [
       "<Figure size 500x400 with 1 Axes>"
      ]
     },
     "metadata": {},
     "output_type": "display_data"
    }
   ],
   "source": [
    "alive_data = data[data['alive'] == 'yes']\n",
    "print(alive_data)\n",
    "deck=alive_data['deck']\n",
    "count=deck.value_counts()\n",
    "count=pd.DataFrame(count)\n",
    "print(count.index,count['deck'])\n",
    "plt.figure(figsize=(5,4))\n",
    "plt.bar(count.index, count['deck'])\n",
    "plt.xlabel('decks in which people are alive')\n",
    "plt.ylabel('Count')\n",
    "plt.title('Distribution of alive passengers in each deck')"
   ]
  },
  {
   "cell_type": "markdown",
   "id": "de6074a3",
   "metadata": {},
   "source": [
    "# Deck-wise Distribution of passengers who are not alive"
   ]
  },
  {
   "cell_type": "code",
   "execution_count": 62,
   "id": "988ed324",
   "metadata": {},
   "outputs": [
    {
     "name": "stdout",
     "output_type": "stream",
     "text": [
      "    Passenger_No first_name  last_name  survived  pclass     sex  age  parch  \\\n",
      "0              1     Steven       King         0       3    male   22      0   \n",
      "4              5      David   Raphaely         0       3    male   35      0   \n",
      "5              6      Nancy       Khoo         0       3    male   27      0   \n",
      "6              7       John      Baida         0       1    male   54      0   \n",
      "7              8     Daniel      Weiss         0       3    male    2      1   \n",
      "12            13      Kevin     Rogers         0       3    male   20      0   \n",
      "13            14      Julia      Patel         0       3    male   39      5   \n",
      "14            15      Irene     Davies         0       3  female   14      0   \n",
      "16            17      Jason  Bernstein         0       3    male    2      1   \n",
      "18            19     Sartha      Sully         0       3  female   31      0   \n",
      "20            21       Jack     Greene         0       2    male   35      0   \n",
      "\n",
      "     fare embarked   class    who  adult_male deck  embark_town alive  alone  \\\n",
      "0   24000        S   Third    man        True    A  Southampton    no  False   \n",
      "4   34048        S   Third    man        True    C  Southampton    no   True   \n",
      "5   46206        Q   Third    man        True    E   Queenstown    no   True   \n",
      "6   63090        S   First    man        True    E  Southampton    no   True   \n",
      "7   56356        S   Third  child       False    G  Southampton    no  False   \n",
      "12  30897        S   Third    man        True    C  Southampton    no   True   \n",
      "13  59197        S   Third    man        True    C  Southampton    no  False   \n",
      "14  61211        S   Third  child       False    G  Southampton    no   True   \n",
      "16  27978        Q   Third  child       False    G   Queenstown    no  False   \n",
      "18  66662        S   Third  woman       False    D  Southampton    no  False   \n",
      "20  20068        S  Second    man        True    G  Southampton    no   True   \n",
      "\n",
      "    DECK_NUMBER  \n",
      "0            90  \n",
      "4            60  \n",
      "5            70  \n",
      "6            70  \n",
      "7            70  \n",
      "12           70  \n",
      "13           80  \n",
      "14           80  \n",
      "16          100  \n",
      "18           60  \n",
      "20           90  \n",
      "Index(['G', 'C', 'E', 'A', 'D'], dtype='object') G    4\n",
      "C    3\n",
      "E    2\n",
      "A    1\n",
      "D    1\n",
      "Name: deck, dtype: int64\n"
     ]
    },
    {
     "data": {
      "text/plain": [
       "Text(0.5, 1.0, 'Deck-wise Distribution of passengers who are not alive')"
      ]
     },
     "execution_count": 62,
     "metadata": {},
     "output_type": "execute_result"
    },
    {
     "data": {
      "image/png": "[encoded data removed]",
      "text/plain": [
       "<Figure size 500x400 with 1 Axes>"
      ]
     },
     "metadata": {},
     "output_type": "display_data"
    }
   ],
   "source": [
    "dead_data = data[data['alive'] == 'no']\n",
    "print(dead_data)\n",
    "deck=dead_data['deck']\n",
    "count=deck.value_counts()\n",
    "count=pd.DataFrame(count)\n",
    "print(count.index,count['deck'])\n",
    "plt.figure(figsize=(5,4))\n",
    "plt.bar(count.index, count['deck'])\n",
    "plt.xlabel('decks in which people are not alive')\n",
    "plt.ylabel('Count')\n",
    "plt.title('Deck-wise Distribution of passengers who are not alive')"
   ]
  },
  {
   "cell_type": "markdown",
   "id": "76eb7ba9",
   "metadata": {},
   "source": [
    "# Histogram showing the distribution of gender of alive passengers"
   ]
  },
  {
   "cell_type": "code",
   "execution_count": 40,
   "id": "a238198b",
   "metadata": {},
   "outputs": [
    {
     "name": "stdout",
     "output_type": "stream",
     "text": [
      "Index(['female', 'male'], dtype='object') female    9\n",
      "male      1\n",
      "Name: sex, dtype: int64\n"
     ]
    },
    {
     "data": {
      "text/plain": [
       "Text(0.5, 1.0, 'Distribution of gender of alive passengers')"
      ]
     },
     "execution_count": 40,
     "metadata": {},
     "output_type": "execute_result"
    },
    {
     "data": {
      "image/png": "[encoded data removed]",
      "text/plain": [
       "<Figure size 500x400 with 1 Axes>"
      ]
     },
     "metadata": {},
     "output_type": "display_data"
    }
   ],
   "source": [
    "alive_data = data[data['alive'] == 'yes']\n",
    "sex=alive_data['sex']\n",
    "count=sex.value_counts()\n",
    "count=pd.DataFrame(count)\n",
    "print(count.index,count['sex'])\n",
    "plt.figure(figsize=(5,4))\n",
    "plt.bar(count.index, count['sex'])\n",
    "plt.xlabel('Gender of alive passengers')\n",
    "plt.ylabel('Count')\n",
    "plt.title('Distribution of gender of alive passengers')"
   ]
  },
  {
   "cell_type": "markdown",
   "id": "e52de9ce",
   "metadata": {},
   "source": [
    "# Histogram showing the distribution of gender of passengers who are not alive"
   ]
  },
  {
   "cell_type": "code",
   "execution_count": 64,
   "id": "12968468",
   "metadata": {},
   "outputs": [
    {
     "name": "stdout",
     "output_type": "stream",
     "text": [
      "Index(['male', 'female'], dtype='object') male      9\n",
      "female    2\n",
      "Name: sex, dtype: int64\n"
     ]
    },
    {
     "data": {
      "text/plain": [
       "Text(0.5, 1.0, 'Distribution of gender of passengers who are not alive')"
      ]
     },
     "execution_count": 64,
     "metadata": {},
     "output_type": "execute_result"
    },
    {
     "data": {
      "image/png": "[encoded data removed]",
      "text/plain": [
       "<Figure size 500x400 with 1 Axes>"
      ]
     },
     "metadata": {},
     "output_type": "display_data"
    }
   ],
   "source": [
    "notalive_data = data[data['alive'] == 'no']\n",
    "sex=notalive_data['sex']\n",
    "count=sex.value_counts()\n",
    "count=pd.DataFrame(count)\n",
    "print(count.index,count['sex'])\n",
    "plt.figure(figsize=(5,4))\n",
    "plt.bar(count.index, count['sex'])\n",
    "plt.xlabel('Gender of passengers who are not alive')\n",
    "plt.ylabel('Count')\n",
    "plt.title('Distribution of gender of passengers who are not alive')"
   ]
  },
  {
   "cell_type": "markdown",
   "id": "9f9b576a",
   "metadata": {},
   "source": [
    "# Histogram that visualizes the distribution of deck numbers for passengers who are alive "
   ]
  },
  {
   "cell_type": "code",
   "execution_count": 45,
   "id": "f531368a",
   "metadata": {},
   "outputs": [
    {
     "name": "stdout",
     "output_type": "stream",
     "text": [
      "Int64Index([90, 60, 100, 80, 70], dtype='int64') 90     3\n",
      "60     2\n",
      "100    2\n",
      "80     2\n",
      "70     1\n",
      "Name: DECK_NUMBER, dtype: int64\n"
     ]
    },
    {
     "data": {
      "text/plain": [
       "Text(0.5, 1.0, 'Distribution of deck numbers for passengers who are alive')"
      ]
     },
     "execution_count": 45,
     "metadata": {},
     "output_type": "execute_result"
    },
    {
     "data": {
      "image/png": "[encoded data removed]",
      "text/plain": [
       "<Figure size 1000x500 with 1 Axes>"
      ]
     },
     "metadata": {},
     "output_type": "display_data"
    }
   ],
   "source": [
    "alive_data = data[data['alive'] == 'yes']\n",
    "deck_num=alive_data['DECK_NUMBER']\n",
    "count=deck_num.value_counts()\n",
    "count=pd.DataFrame(count)\n",
    "print(count.index,count['DECK_NUMBER'])\n",
    "plt.figure(figsize=(10,5))\n",
    "plt.bar(count.index, count['DECK_NUMBER'])\n",
    "plt.xlabel('Deck no. in which passengers are alive')\n",
    "plt.ylabel('Count')\n",
    "plt.title('Distribution of deck numbers for passengers who are alive')"
   ]
  },
  {
   "cell_type": "markdown",
   "id": "53f49dfe",
   "metadata": {},
   "source": [
    "# Histogram that visualizes the distribution of deck numbers for passengers who are alive"
   ]
  },
  {
   "cell_type": "code",
   "execution_count": 65,
   "id": "997140b3",
   "metadata": {},
   "outputs": [
    {
     "name": "stdout",
     "output_type": "stream",
     "text": [
      "Int64Index([70, 90, 60, 80, 100], dtype='int64') 70     4\n",
      "90     2\n",
      "60     2\n",
      "80     2\n",
      "100    1\n",
      "Name: DECK_NUMBER, dtype: int64\n"
     ]
    },
    {
     "data": {
      "text/plain": [
       "Text(0.5, 1.0, 'Distribution of deck numbers for passengers who are not alive')"
      ]
     },
     "execution_count": 65,
     "metadata": {},
     "output_type": "execute_result"
    },
    {
     "data": {
      "image/png": "[encoded data removed]",
      "text/plain": [
       "<Figure size 1000x500 with 1 Axes>"
      ]
     },
     "metadata": {},
     "output_type": "display_data"
    }
   ],
   "source": [
    "notalive_data = data[data['alive'] == 'no']\n",
    "deck_num=notalive_data['DECK_NUMBER']\n",
    "count=deck_num.value_counts()\n",
    "count=pd.DataFrame(count)\n",
    "print(count.index,count['DECK_NUMBER'])\n",
    "plt.figure(figsize=(10,5))\n",
    "plt.bar(count.index, count['DECK_NUMBER'])\n",
    "plt.xlabel('Deck no. in which passengers are not alive')\n",
    "plt.ylabel('Count')\n",
    "plt.title('Distribution of deck numbers for passengers who are not alive')"
   ]
  },
  {
   "cell_type": "code",
   "execution_count": null,
   "id": "848e36fc",
   "metadata": {},
   "outputs": [],
   "source": []
  }
 ],
 "metadata": {
  "kernelspec": {
   "display_name": "Python 3 (ipykernel)",
   "language": "python",
   "name": "python3"
  },
  "language_info": {
   "codemirror_mode": {
    "name": "ipython",
    "version": 3
   },
   "file_extension": ".py",
   "mimetype": "text/x-python",
   "name": "python",
   "nbconvert_exporter": "python",
   "pygments_lexer": "ipython3",
   "version": "3.11.3"
  }
 },
 "nbformat": 4,
 "nbformat_minor": 5
}
